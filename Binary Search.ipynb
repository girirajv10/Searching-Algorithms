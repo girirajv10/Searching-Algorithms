{
 "cells": [
  {
   "cell_type": "code",
   "execution_count": 1,
   "metadata": {},
   "outputs": [
    {
     "name": "stdout",
     "output_type": "stream",
     "text": [
      "Element is present at index  3\n"
     ]
    }
   ],
   "source": [
    "#################################\n",
    "# Binary Search using Python\n",
    "# By Giriraj Vaishnav\n",
    "#################################\n",
    "\n",
    "  \n",
    "# It returns location of x in given array arr \n",
    "# if present, else returns -1\n",
    "def binarySearch(arr, l, r, x):\n",
    "  \n",
    "    while l <= r:\n",
    "  \n",
    "        mid = l + (r - l) // 2;\n",
    "          \n",
    "        # Check if x is present at mid\n",
    "        if arr[mid] == x:\n",
    "            return mid\n",
    "  \n",
    "        # If x is greater, ignore left half\n",
    "        elif arr[mid] < x:\n",
    "            l = mid + 1\n",
    "  \n",
    "        # If x is smaller, ignore right half\n",
    "        else:\n",
    "            r = mid - 1\n",
    "      \n",
    "    # If we reach here, then the element\n",
    "    # was not present\n",
    "    return -1\n",
    "  \n",
    "# Driver Code\n",
    "arr = [ 2, 3, 4, 10, 40 ]\n",
    "x = 10\n",
    "  \n",
    "# Function call\n",
    "result = binarySearch(arr, 0, len(arr)-1, x)\n",
    "  \n",
    "if result != -1:\n",
    "    print (\"Element is present at index % d\" % result)\n",
    "else:\n",
    "    print (\"Element is not present in array\")"
   ]
  }
 ],
 "metadata": {
  "kernelspec": {
   "display_name": "Python 3",
   "language": "python",
   "name": "python3"
  },
  "language_info": {
   "codemirror_mode": {
    "name": "ipython",
    "version": 3
   },
   "file_extension": ".py",
   "mimetype": "text/x-python",
   "name": "python",
   "nbconvert_exporter": "python",
   "pygments_lexer": "ipython3",
   "version": "3.8.3"
  }
 },
 "nbformat": 4,
 "nbformat_minor": 4
}
